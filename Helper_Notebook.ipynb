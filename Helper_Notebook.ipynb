{
 "cells": [
  {
   "cell_type": "code",
   "execution_count": null,
   "id": "2d8c856c",
   "metadata": {},
   "outputs": [],
   "source": [
    "import pandas as pd\n",
    "!pip install plotly\n",
    "import plotly.express as px"
   ]
  },
  {
   "cell_type": "code",
   "execution_count": null,
   "id": "ad436b96",
   "metadata": {},
   "outputs": [],
   "source": [
    "excel_file = 'C:/Users/HP/Desktop/data_science_internship/proj_3/Survey_Results.xlsx'\n",
    "sheet_name = 'DATA'\n",
    "df = pd.read_excel(excel_file, \n",
    "                   sheet_name = sheet_name,\n",
    "                   header = 3,                          \n",
    "                   usecols='B:D')\n",
    "df.head()"
   ]
  },
  {
   "cell_type": "code",
   "execution_count": null,
   "id": "813e82d4",
   "metadata": {},
   "outputs": [],
   "source": [
    "df.shape"
   ]
  },
  {
   "cell_type": "code",
   "execution_count": null,
   "id": "75f6831e",
   "metadata": {},
   "outputs": [],
   "source": [
    "total_rows = df.shape[0]\n",
    "print(f'Total Rows: {total_rows}')"
   ]
  },
  {
   "cell_type": "code",
   "execution_count": null,
   "id": "2c8f12cd",
   "metadata": {},
   "outputs": [],
   "source": [
    "departments = df['Department'].unique().tolist()\n",
    "departments"
   ]
  },
  {
   "cell_type": "code",
   "execution_count": null,
   "id": "b8870b57",
   "metadata": {},
   "outputs": [],
   "source": [
    "departments_selection = ['Sales', 'Marketing', 'Finance']\n",
    "mask = df['Department'].isin(departments_selection)\n",
    "df[mask].head()"
   ]
  },
  {
   "cell_type": "code",
   "execution_count": null,
   "id": "afb57190",
   "metadata": {},
   "outputs": [],
   "source": [
    "age_selection = (30,40)\n",
    "mask = df['Age'].between(*age_selection)\n",
    "df[mask]"
   ]
  },
  {
   "cell_type": "code",
   "execution_count": null,
   "id": "aedbc56d",
   "metadata": {},
   "outputs": [],
   "source": [
    "df_grouped = df_grouped.rename(columns={'Age': 'Votes'})\n",
    "df_grouped = df_grouped.reset_index()\n",
    "df_grouped"
   ]
  },
  {
   "cell_type": "code",
   "execution_count": null,
   "id": "344766fe",
   "metadata": {},
   "outputs": [],
   "source": [
    "bar_chart = px.bar(df_grouped, \n",
    "             x='Rating', \n",
    "             y='Votes',\n",
    "             text='Votes',\n",
    "             color_discrete_sequence =['#F63366']*len(df_grouped),\n",
    "             template= 'plotly_white')"
   ]
  },
  {
   "cell_type": "code",
   "execution_count": null,
   "id": "02e62435",
   "metadata": {},
   "outputs": [],
   "source": [
    "bar_chart.show()"
   ]
  },
  {
   "cell_type": "code",
   "execution_count": null,
   "id": "63403887",
   "metadata": {},
   "outputs": [],
   "source": []
  }
 ],
 "metadata": {
  "kernelspec": {
   "display_name": "Python 3",
   "language": "python",
   "name": "python3"
  }
 },
 "nbformat": 4,
 "nbformat_minor": 5
}
